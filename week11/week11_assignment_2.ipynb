{
 "cells": [
  {
   "cell_type": "markdown",
   "metadata": {},
   "source": [
    "# Week 11 Assignment\n",
    "\n",
    "Because I was unable to conduct our workshop this week, I'm keeping the assignment light as well.  Below you'll find just two steps for this week: one programming exercise and then a planning activity for your final project.\n",
    "\n",
    "For clarification, the \"final project\" I've been referring to is your \"final.\"  It is not a project in addition to a final exam.  They're one-in-the-same.\n",
    "\n",
    "Please do the programming exercise and verify that your code works using the tests, then think about your final project and fill out the questions in the second part.\n",
    "\n",
    "---\n",
    "---"
   ]
  },
  {
   "cell_type": "markdown",
   "metadata": {},
   "source": [
    "### 47.1: Filtering and summarizing data\n",
    "\n",
    "For this work, you'll find a data file in `/data/complications_all.csv`.\n",
    "\n",
    "Read in the data file and create a variable called `mo_hospitals` that contains a data frame from the `complications_all.csv` file, filtered down to only contain those hospitals from the state of Missouri (MO).\n",
    "\n",
    "Then aggregate that data by hospital into a variable named `mo_summary`.  There are some key fields that we want to summarize:\n",
    "* We want to know the earliest date that each hospital was participating in any program\n",
    "* We want to know the latest date that each hospital stopped participating in any program\n",
    "* We want to know the total number of patients in the denominators of these programs\n",
    "\n",
    "Some things to note:\n",
    "* You will need to convert the `Start Date` and `End Date` to actual datetime fields\n",
    "* You will need to clean up and convert the `Denominator` field to just be numeric - the rule that you should use it to simply remove any records where the `Denominator` is `'Not Available'`\n",
    "\n",
    "\n",
    "The final result of this step should be a new data frame called `mo_summary` that contains one row for each hospital and contains the min start date, max end date, and total denominator.  Use the names `start_date`, `end_date`, and `number` for those columns in `mo_summary`.\n",
    "\n",
    "\n",
    "You do not need to create your code in the form of a function, just make sure your variable names match what I've described above so the tests work."
   ]
  },
  {
   "cell_type": "code",
   "execution_count": 1,
   "metadata": {},
   "outputs": [],
   "source": [
    "import pandas as pd\n",
    "from datetime import datetime\n",
    "\n",
    "# This is just to show you the name to use for the variable you need to create for this step to pass.\n",
    "d_parser = lambda x: datetime.strptime(x, '%m/%d/%Y')\n",
    "mo_hospitals = pd.read_csv(\"/data/complications_all.csv\", parse_dates=['Start Date', 'End Date'], date_parser=d_parser)\n",
    "\n",
    "cond = mo_hospitals[\"State\"] == \"MO\"\n",
    "mo_hospitals = mo_hospitals[cond]"
   ]
  },
  {
   "cell_type": "code",
   "execution_count": 2,
   "metadata": {},
   "outputs": [],
   "source": [
    "# These assertions will help make sure that you're on the right track.\n",
    "assert(mo_hospitals['State'].unique() == ['MO'])\n",
    "assert(mo_hospitals.shape == (2133,18))"
   ]
  },
  {
   "cell_type": "code",
   "execution_count": 3,
   "metadata": {},
   "outputs": [],
   "source": [
    "cond_den = mo_hospitals[\"Denominator\"] == \"Not Available\"\n",
    "mo_hospitals = mo_hospitals[~cond_den]\n",
    "mo_hospitals = mo_hospitals.astype({'Denominator': 'int'})\n"
   ]
  },
  {
   "cell_type": "code",
   "execution_count": 4,
   "metadata": {},
   "outputs": [],
   "source": [
    "hospitals_group = mo_hospitals.groupby(\"Facility Name\")"
   ]
  },
  {
   "cell_type": "code",
   "execution_count": 5,
   "metadata": {},
   "outputs": [],
   "source": [
    "mo_summary = pd.concat([hospitals_group[\"Start Date\"].min(), hospitals_group[\"End Date\"].max(), hospitals_group[\"Denominator\"].sum()], axis=1)\n",
    "mo_summary.rename(columns = {'Denominator': 'number', 'Start Date': 'start_date', 'End Date': 'end_date'}, inplace = True)"
   ]
  },
  {
   "cell_type": "code",
   "execution_count": 6,
   "metadata": {},
   "outputs": [
    {
     "data": {
      "text/plain": [
       "True"
      ]
     },
     "execution_count": 6,
     "metadata": {},
     "output_type": "execute_result"
    }
   ],
   "source": [
    "mo_summary['end_date'].max() == pd.Timestamp(2018,6,30)"
   ]
  },
  {
   "cell_type": "code",
   "execution_count": 7,
   "metadata": {},
   "outputs": [],
   "source": [
    "assert(mo_summary['number'].sum() == 1766908)\n",
    "assert(mo_summary['start_date'].min() == pd.Timestamp(2015,4,1))\n",
    "assert(mo_summary['end_date'].max() == pd.Timestamp(2018,6,30))\n",
    "assert(mo_summary.shape == (108,3))\n",
    "assert(mo_summary.loc['BARNES JEWISH HOSPITAL'].number == 131313)\n",
    "assert(mo_summary.loc['BOONE HOSPITAL CENTER'].number == 63099)"
   ]
  },
  {
   "cell_type": "markdown",
   "metadata": {},
   "source": [
    "---\n",
    "\n",
    "### 47.2 Planning your final project\n",
    "\n",
    "You should be thinking about the things we've been learning and how you can apply them to your final project.  Use the rubric to help guid your thinking and then answer the questions below.  This is meant as a guide to help you think through what you will do."
   ]
  },
  {
   "cell_type": "markdown",
   "metadata": {},
   "source": [
    "#### A) Data Access\n",
    "\n",
    "Your project should include data from at least three distinct types of sources.  For example: AWS S3, Relational Databases, Internet, Web Services, local files.  List what data sources you're planning to use."
   ]
  },
  {
   "cell_type": "markdown",
   "metadata": {},
   "source": [
    "**Double-click to enter your answer**\n",
    "\n",
    "Put your answer here\n"
   ]
  },
  {
   "cell_type": "markdown",
   "metadata": {},
   "source": [
    "#### B. Data Formats\n",
    "\n",
    "Your project should include data that comes in different file formats.  For example: HL7, EDI, HTML, CSV, Excel, JSON, XML.  List what data formats you're planning to use."
   ]
  },
  {
   "cell_type": "markdown",
   "metadata": {},
   "source": [
    "**Double-click to enter your answer**\n",
    "\n",
    "Put your answer here\n"
   ]
  },
  {
   "cell_type": "markdown",
   "metadata": {},
   "source": [
    "#### C. Objective\n",
    "\n",
    "What purpose would your project serve in a real work setting?  Take a couple of paragraphs to write down why this is an interesting product."
   ]
  },
  {
   "cell_type": "markdown",
   "metadata": {},
   "source": [
    "**Double-click to enter your answer**\n",
    "\n",
    "Put your answer here\n"
   ]
  },
  {
   "cell_type": "markdown",
   "metadata": {},
   "source": [
    "\n",
    "\n",
    "---\n",
    "\n",
    "\n",
    "\n",
    "## Submit your work via GitHub as normal\n"
   ]
  }
 ],
 "metadata": {
  "kernelspec": {
   "display_name": "Python 3",
   "language": "python",
   "name": "python3"
  },
  "language_info": {
   "codemirror_mode": {
    "name": "ipython",
    "version": 3
   },
   "file_extension": ".py",
   "mimetype": "text/x-python",
   "name": "python",
   "nbconvert_exporter": "python",
   "pygments_lexer": "ipython3",
   "version": "3.6.7"
  }
 },
 "nbformat": 4,
 "nbformat_minor": 4
}

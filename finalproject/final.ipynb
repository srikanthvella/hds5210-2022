{
 "cells": [
  {
   "cell_type": "markdown",
   "metadata": {},
   "source": [
    "#***FINAL PROJECT***\n",
    "\n",
    "***Airplane Crashes Since 1908***\n",
    "\n",
    "The main aim of this project is to analyse Airplane carashes data and visualy present it.\n",
    "\n",
    "The first step of this project is to load data.Data is in different files thus we will need to merge to get the final dataset to work with.\n",
    "\n",
    "\n",
    "***DATASETS***\n",
    "\n",
    "The first dataset is from a local machine which is in json format.\n",
    "\n",
    "\n",
    "https://www.kaggle.com/code/franciscoescobar/the-statistics-of-airplane-accidents/data?select=Airplane_Crashes_and_Fatalities_Since_1908.csv"
   ]
  },
  {
   "cell_type": "code",
   "execution_count": 1,
   "metadata": {},
   "outputs": [],
   "source": [
    "# first dataset file path\n",
    "location_path = './Airplane_Crashes_and_Fatalities_Since_1908_Location.json'"
   ]
  },
  {
   "cell_type": "markdown",
   "metadata": {},
   "source": [
    "The other sources are downloaded from the internet. The below cell has two paths for the other datasets."
   ]
  },
  {
   "cell_type": "code",
   "execution_count": 2,
   "metadata": {},
   "outputs": [],
   "source": [
    "airplane_path = 'https://raw.githubusercontent.com/Mbicha/data_science/main/data/Airplane_Crashes_and_Fatalities_Since_1908.csv'\n",
    "operator_path = 'https://raw.githubusercontent.com/Mbicha/data_science/main/data/Airplane_Crashes_and_Fatalities_Since_1908_operator.csv'"
   ]
  },
  {
   "cell_type": "markdown",
   "metadata": {},
   "source": [
    "Since we have all path for our datasets, it is time to read the datasets using pandas and convert to dataframe."
   ]
  },
  {
   "cell_type": "code",
   "execution_count": 3,
   "metadata": {},
   "outputs": [],
   "source": [
    "import pandas as pd\n",
    "import matplotlib.pyplot as plt\n",
    "import seaborn as sns"
   ]
  },
  {
   "cell_type": "code",
   "execution_count": 4,
   "metadata": {},
   "outputs": [],
   "source": [
    "def read_csv_json_to_dataframe(data1, data2, data3):\n",
    "    \n",
    "    \"\"\"\n",
    "    Parameters:\n",
    "    ==========\n",
    "    data1: json\n",
    "        This is a json file\n",
    "    data2: csv\n",
    "        This is a csv file\n",
    "    data3: csv\n",
    "        This is a csv file\n",
    "    =========\n",
    "    Return\n",
    "    =========\n",
    "    3 dataframes\n",
    "    \"\"\"\n",
    "    return pd.read_json(data1),  pd.read_csv(data2), pd.read_csv(data3)"
   ]
  },
  {
   "cell_type": "code",
   "execution_count": 5,
   "metadata": {},
   "outputs": [],
   "source": [
    "location_df, airplane_df, operator_df = read_csv_json_to_dataframe(location_path, airplane_path, operator_path)"
   ]
  },
  {
   "cell_type": "markdown",
   "metadata": {},
   "source": [
    "Since we have all path for our datasets, it is time to read the datasets using pandas and convert to dataframe."
   ]
  },
  {
   "cell_type": "code",
   "execution_count": 6,
   "metadata": {},
   "outputs": [
    {
     "data": {
      "text/plain": [
       "Index(['id', 'Location'], dtype='object')"
      ]
     },
     "execution_count": 6,
     "metadata": {},
     "output_type": "execute_result"
    }
   ],
   "source": [
    "location_df.columns"
   ]
  },
  {
   "cell_type": "code",
   "execution_count": 7,
   "metadata": {},
   "outputs": [
    {
     "data": {
      "text/plain": [
       "Index(['id', 'Date', 'Time', 'Flight #', 'Route', 'Type', 'Registration',\n",
       "       'cn/In', 'Aboard', 'Fatalities', 'Ground', 'Summary', 'Unnamed: 12'],\n",
       "      dtype='object')"
      ]
     },
     "execution_count": 7,
     "metadata": {},
     "output_type": "execute_result"
    }
   ],
   "source": [
    "airplane_df.columns"
   ]
  },
  {
   "cell_type": "code",
   "execution_count": 8,
   "metadata": {},
   "outputs": [
    {
     "data": {
      "text/plain": [
       "Index(['id', 'Operator'], dtype='object')"
      ]
     },
     "execution_count": 8,
     "metadata": {},
     "output_type": "execute_result"
    }
   ],
   "source": [
    "operator_df.columns"
   ]
  },
  {
   "cell_type": "markdown",
   "metadata": {},
   "source": [
    "From the 3 datasets columns, we deduce that id is common among the datasets.\n",
    "\n",
    "Now it is time to merge the dataframes. In ours case the datasets should be combined horizontally.\n",
    "\n",
    "For this we will create new function which will merge 3 dataframes."
   ]
  },
  {
   "cell_type": "code",
   "execution_count": 9,
   "metadata": {},
   "outputs": [],
   "source": [
    "def merge_three_dataframes():\n",
    "    \n",
    "    \"\"\"Merge 3 dataframes\"\"\"\n",
    "    merged_dataframe = airplane_df.merge(location_df, how='left', on='id')\n",
    "    \n",
    "    return merged_dataframe.merge(operator_df, how='left', on='id')"
   ]
  },
  {
   "cell_type": "code",
   "execution_count": 10,
   "metadata": {},
   "outputs": [],
   "source": [
    "airplane_fatalities_df = merge_three_dataframes()"
   ]
  },
  {
   "cell_type": "code",
   "execution_count": 11,
   "metadata": {},
   "outputs": [
    {
     "data": {
      "text/html": [
       "<div>\n",
       "<style scoped>\n",
       "    .dataframe tbody tr th:only-of-type {\n",
       "        vertical-align: middle;\n",
       "    }\n",
       "\n",
       "    .dataframe tbody tr th {\n",
       "        vertical-align: top;\n",
       "    }\n",
       "\n",
       "    .dataframe thead th {\n",
       "        text-align: right;\n",
       "    }\n",
       "</style>\n",
       "<table border=\"1\" class=\"dataframe\">\n",
       "  <thead>\n",
       "    <tr style=\"text-align: right;\">\n",
       "      <th></th>\n",
       "      <th>id</th>\n",
       "      <th>Date</th>\n",
       "      <th>Time</th>\n",
       "      <th>Flight #</th>\n",
       "      <th>Route</th>\n",
       "      <th>Type</th>\n",
       "      <th>Registration</th>\n",
       "      <th>cn/In</th>\n",
       "      <th>Aboard</th>\n",
       "      <th>Fatalities</th>\n",
       "      <th>Ground</th>\n",
       "      <th>Summary</th>\n",
       "      <th>Unnamed: 12</th>\n",
       "      <th>Location</th>\n",
       "      <th>Operator</th>\n",
       "    </tr>\n",
       "  </thead>\n",
       "  <tbody>\n",
       "    <tr>\n",
       "      <th>0</th>\n",
       "      <td>1</td>\n",
       "      <td>09/17/1908</td>\n",
       "      <td>17:18</td>\n",
       "      <td>NaN</td>\n",
       "      <td>Demonstration</td>\n",
       "      <td>Wright Flyer III</td>\n",
       "      <td>NaN</td>\n",
       "      <td>1</td>\n",
       "      <td>2.0</td>\n",
       "      <td>1.0</td>\n",
       "      <td>0.0</td>\n",
       "      <td>During a demonstration flight, a U.S. Army fly...</td>\n",
       "      <td>NaN</td>\n",
       "      <td>Fort Myer, Virginia</td>\n",
       "      <td>Military - U.S. Army</td>\n",
       "    </tr>\n",
       "    <tr>\n",
       "      <th>1</th>\n",
       "      <td>2</td>\n",
       "      <td>07/12/1912</td>\n",
       "      <td>06:30</td>\n",
       "      <td>NaN</td>\n",
       "      <td>Test flight</td>\n",
       "      <td>Dirigible</td>\n",
       "      <td>NaN</td>\n",
       "      <td>NaN</td>\n",
       "      <td>5.0</td>\n",
       "      <td>5.0</td>\n",
       "      <td>0.0</td>\n",
       "      <td>First U.S. dirigible Akron exploded just offsh...</td>\n",
       "      <td>NaN</td>\n",
       "      <td>AtlantiCity, New Jersey</td>\n",
       "      <td>Military - U.S. Navy</td>\n",
       "    </tr>\n",
       "    <tr>\n",
       "      <th>2</th>\n",
       "      <td>3</td>\n",
       "      <td>08/06/1913</td>\n",
       "      <td>NaN</td>\n",
       "      <td>-</td>\n",
       "      <td>NaN</td>\n",
       "      <td>Curtiss seaplane</td>\n",
       "      <td>NaN</td>\n",
       "      <td>NaN</td>\n",
       "      <td>1.0</td>\n",
       "      <td>1.0</td>\n",
       "      <td>0.0</td>\n",
       "      <td>The first fatal airplane accident in Canada oc...</td>\n",
       "      <td>NaN</td>\n",
       "      <td>Victoria, British Columbia, Canada</td>\n",
       "      <td>Private</td>\n",
       "    </tr>\n",
       "  </tbody>\n",
       "</table>\n",
       "</div>"
      ],
      "text/plain": [
       "   id        Date   Time Flight #          Route              Type  \\\n",
       "0   1  09/17/1908  17:18      NaN  Demonstration  Wright Flyer III   \n",
       "1   2  07/12/1912  06:30      NaN    Test flight         Dirigible   \n",
       "2   3  08/06/1913    NaN        -            NaN  Curtiss seaplane   \n",
       "\n",
       "  Registration cn/In  Aboard  Fatalities  Ground  \\\n",
       "0          NaN     1     2.0         1.0     0.0   \n",
       "1          NaN   NaN     5.0         5.0     0.0   \n",
       "2          NaN   NaN     1.0         1.0     0.0   \n",
       "\n",
       "                                             Summary Unnamed: 12  \\\n",
       "0  During a demonstration flight, a U.S. Army fly...         NaN   \n",
       "1  First U.S. dirigible Akron exploded just offsh...         NaN   \n",
       "2  The first fatal airplane accident in Canada oc...         NaN   \n",
       "\n",
       "                             Location              Operator  \n",
       "0                 Fort Myer, Virginia  Military - U.S. Army  \n",
       "1             AtlantiCity, New Jersey  Military - U.S. Navy  \n",
       "2  Victoria, British Columbia, Canada               Private  "
      ]
     },
     "execution_count": 11,
     "metadata": {},
     "output_type": "execute_result"
    }
   ],
   "source": [
    "airplane_fatalities_df.head(3)"
   ]
  },
  {
   "cell_type": "markdown",
   "metadata": {},
   "source": [
    "**Missing Values**\n",
    "\n",
    "After showing a few rows, we observe that there are missing values.\n",
    "\n",
    "Let's visualize in heatmap to see how many missing values and the ones we can drop."
   ]
  },
  {
   "cell_type": "code",
   "execution_count": 12,
   "metadata": {},
   "outputs": [
    {
     "data": {
      "text/plain": [
       "<matplotlib.axes._subplots.AxesSubplot at 0x7f2073710c18>"
      ]
     },
     "execution_count": 12,
     "metadata": {},
     "output_type": "execute_result"
    },
    {
     "data": {
      "image/png": "[encoded data removed]",
      "text/plain": [
       "<Figure size 432x288 with 2 Axes>"
      ]
     },
     "metadata": {
      "needs_background": "light"
     },
     "output_type": "display_data"
    }
   ],
   "source": [
    "sns.heatmap(data=airplane_fatalities_df.isna(), cmap='magma')"
   ]
  },
  {
   "cell_type": "markdown",
   "metadata": {},
   "source": [
    "From the heatmap above we can drop the following columns 'Time', 'Flight #', 'Route', 'Registration','cn/In', 'Summary', 'Unnamed: 12'\n",
    "\n",
    "For this I am going to create function that accepts dataframe, list as a parameter, then drop the these columns from this dataframe.\n",
    "\n",
    "Since we know both dataframe and columns, we can initialize them in the parameters."
   ]
  },
  {
   "cell_type": "code",
   "execution_count": 13,
   "metadata": {},
   "outputs": [],
   "source": [
    "columns = ['Time', 'Flight #', 'Route', 'Registration','cn/In', 'Summary', 'Unnamed: 12']\n",
    "def remove_list_of_columns(df=airplane_fatalities_df, list_cols_to_remove=columns):\n",
    "    \n",
    "    \"\"\"\n",
    "    Parameters\n",
    "    ==========\n",
    "    df: Dataframe\n",
    "        Dataframe from which the columns are dropped\n",
    "    list_cols_to_remove: List\n",
    "        This has a list of columns to be dropped\n",
    "    =========\n",
    "    Return\n",
    "    ---------\n",
    "    Dataframe without list_cols_to_remove\n",
    "    \"\"\"\n",
    "    \n",
    "    return df.drop(list_cols_to_remove, axis=1)"
   ]
  },
  {
   "cell_type": "code",
   "execution_count": 14,
   "metadata": {},
   "outputs": [
    {
     "data": {
      "text/html": [
       "<div>\n",
       "<style scoped>\n",
       "    .dataframe tbody tr th:only-of-type {\n",
       "        vertical-align: middle;\n",
       "    }\n",
       "\n",
       "    .dataframe tbody tr th {\n",
       "        vertical-align: top;\n",
       "    }\n",
       "\n",
       "    .dataframe thead th {\n",
       "        text-align: right;\n",
       "    }\n",
       "</style>\n",
       "<table border=\"1\" class=\"dataframe\">\n",
       "  <thead>\n",
       "    <tr style=\"text-align: right;\">\n",
       "      <th></th>\n",
       "      <th>id</th>\n",
       "      <th>Date</th>\n",
       "      <th>Type</th>\n",
       "      <th>Aboard</th>\n",
       "      <th>Fatalities</th>\n",
       "      <th>Ground</th>\n",
       "      <th>Location</th>\n",
       "      <th>Operator</th>\n",
       "    </tr>\n",
       "  </thead>\n",
       "  <tbody>\n",
       "    <tr>\n",
       "      <th>0</th>\n",
       "      <td>1</td>\n",
       "      <td>09/17/1908</td>\n",
       "      <td>Wright Flyer III</td>\n",
       "      <td>2.0</td>\n",
       "      <td>1.0</td>\n",
       "      <td>0.0</td>\n",
       "      <td>Fort Myer, Virginia</td>\n",
       "      <td>Military - U.S. Army</td>\n",
       "    </tr>\n",
       "    <tr>\n",
       "      <th>1</th>\n",
       "      <td>2</td>\n",
       "      <td>07/12/1912</td>\n",
       "      <td>Dirigible</td>\n",
       "      <td>5.0</td>\n",
       "      <td>5.0</td>\n",
       "      <td>0.0</td>\n",
       "      <td>AtlantiCity, New Jersey</td>\n",
       "      <td>Military - U.S. Navy</td>\n",
       "    </tr>\n",
       "    <tr>\n",
       "      <th>2</th>\n",
       "      <td>3</td>\n",
       "      <td>08/06/1913</td>\n",
       "      <td>Curtiss seaplane</td>\n",
       "      <td>1.0</td>\n",
       "      <td>1.0</td>\n",
       "      <td>0.0</td>\n",
       "      <td>Victoria, British Columbia, Canada</td>\n",
       "      <td>Private</td>\n",
       "    </tr>\n",
       "  </tbody>\n",
       "</table>\n",
       "</div>"
      ],
      "text/plain": [
       "   id        Date              Type  Aboard  Fatalities  Ground  \\\n",
       "0   1  09/17/1908  Wright Flyer III     2.0         1.0     0.0   \n",
       "1   2  07/12/1912         Dirigible     5.0         5.0     0.0   \n",
       "2   3  08/06/1913  Curtiss seaplane     1.0         1.0     0.0   \n",
       "\n",
       "                             Location              Operator  \n",
       "0                 Fort Myer, Virginia  Military - U.S. Army  \n",
       "1             AtlantiCity, New Jersey  Military - U.S. Navy  \n",
       "2  Victoria, British Columbia, Canada               Private  "
      ]
     },
     "execution_count": 14,
     "metadata": {},
     "output_type": "execute_result"
    }
   ],
   "source": [
    "airplane_fatalities_df = remove_list_of_columns()\n",
    "airplane_fatalities_df.head(3)"
   ]
  },
  {
   "cell_type": "markdown",
   "metadata": {},
   "source": [
    "Let's see if we have any missing values remaining."
   ]
  },
  {
   "cell_type": "code",
   "execution_count": 15,
   "metadata": {},
   "outputs": [
    {
     "data": {
      "text/plain": [
       "id             0\n",
       "Date           0\n",
       "Type          27\n",
       "Aboard        22\n",
       "Fatalities    12\n",
       "Ground        22\n",
       "Location       0\n",
       "Operator      18\n",
       "dtype: int64"
      ]
     },
     "execution_count": 15,
     "metadata": {},
     "output_type": "execute_result"
    }
   ],
   "source": [
    "airplane_fatalities_df.isna().sum()"
   ]
  },
  {
   "cell_type": "markdown",
   "metadata": {},
   "source": [
    "Let's fill missing values with mode for all columns"
   ]
  },
  {
   "cell_type": "code",
   "execution_count": 16,
   "metadata": {},
   "outputs": [],
   "source": [
    "def fix_missing_values(df, col):\n",
    "    \n",
    "    \"\"\"\n",
    "    Parameters\n",
    "    ==========\n",
    "    df: Dataframe\n",
    "        Dataframe with missing values\n",
    "    col:\n",
    "        column with missing values to be filled\n",
    "    ==========\n",
    "    Return\n",
    "    ----------\n",
    "    Dataframe with column whose dataframe has no missing values\n",
    "    \"\"\"\n",
    "    \n",
    "    df[col] = df[col].fillna(df[col].mode()[0])\n",
    "    return df"
   ]
  },
  {
   "cell_type": "code",
   "execution_count": 17,
   "metadata": {},
   "outputs": [],
   "source": [
    "cleaned_df = fix_missing_values(airplane_fatalities_df, 'Type')\n",
    "cleaned_df = fix_missing_values(airplane_fatalities_df, 'Aboard')\n",
    "cleaned_df = fix_missing_values(airplane_fatalities_df, 'Fatalities')\n",
    "cleaned_df = fix_missing_values(airplane_fatalities_df, 'Ground')\n",
    "cleaned_df = fix_missing_values(airplane_fatalities_df, 'Aboard')\n",
    "cleaned_df = fix_missing_values(airplane_fatalities_df, 'Operator')"
   ]
  },
  {
   "cell_type": "code",
   "execution_count": 18,
   "metadata": {},
   "outputs": [
    {
     "data": {
      "text/plain": [
       "id            0\n",
       "Date          0\n",
       "Type          0\n",
       "Aboard        0\n",
       "Fatalities    0\n",
       "Ground        0\n",
       "Location      0\n",
       "Operator      0\n",
       "dtype: int64"
      ]
     },
     "execution_count": 18,
     "metadata": {},
     "output_type": "execute_result"
    }
   ],
   "source": [
    "cleaned_df.isna().sum()"
   ]
  },
  {
   "cell_type": "markdown",
   "metadata": {},
   "source": [
    "Let's fill missing values with mode for all columns"
   ]
  },
  {
   "cell_type": "markdown",
   "metadata": {},
   "source": [
    "***Add Features***\n",
    "\n",
    "Add column Years. This will be necessary when analyzing fatalities as per the year they occured."
   ]
  },
  {
   "cell_type": "code",
   "execution_count": 19,
   "metadata": {},
   "outputs": [],
   "source": [
    "def add_year(df, date_column):\n",
    "    \n",
    "    \"\"\"\n",
    "    Parameters\n",
    "    ==========\n",
    "    df: Dataframe\n",
    "        Dataframe to add year column\n",
    "    date_column: Date\n",
    "        Date column\n",
    "    ==========\n",
    "    Return\n",
    "    ----------\n",
    "    Dataframe with new column Year\n",
    "    \"\"\"\n",
    "    \n",
    "    df['Year'] = pd.to_datetime(df[date_column]).dt.year\n",
    "    return df"
   ]
  },
  {
   "cell_type": "code",
   "execution_count": 20,
   "metadata": {},
   "outputs": [
    {
     "data": {
      "text/html": [
       "<div>\n",
       "<style scoped>\n",
       "    .dataframe tbody tr th:only-of-type {\n",
       "        vertical-align: middle;\n",
       "    }\n",
       "\n",
       "    .dataframe tbody tr th {\n",
       "        vertical-align: top;\n",
       "    }\n",
       "\n",
       "    .dataframe thead th {\n",
       "        text-align: right;\n",
       "    }\n",
       "</style>\n",
       "<table border=\"1\" class=\"dataframe\">\n",
       "  <thead>\n",
       "    <tr style=\"text-align: right;\">\n",
       "      <th></th>\n",
       "      <th>id</th>\n",
       "      <th>Date</th>\n",
       "      <th>Type</th>\n",
       "      <th>Aboard</th>\n",
       "      <th>Fatalities</th>\n",
       "      <th>Ground</th>\n",
       "      <th>Location</th>\n",
       "      <th>Operator</th>\n",
       "      <th>Year</th>\n",
       "    </tr>\n",
       "  </thead>\n",
       "  <tbody>\n",
       "    <tr>\n",
       "      <th>0</th>\n",
       "      <td>1</td>\n",
       "      <td>09/17/1908</td>\n",
       "      <td>Wright Flyer III</td>\n",
       "      <td>2.0</td>\n",
       "      <td>1.0</td>\n",
       "      <td>0.0</td>\n",
       "      <td>Fort Myer, Virginia</td>\n",
       "      <td>Military - U.S. Army</td>\n",
       "      <td>1908</td>\n",
       "    </tr>\n",
       "    <tr>\n",
       "      <th>1</th>\n",
       "      <td>2</td>\n",
       "      <td>07/12/1912</td>\n",
       "      <td>Dirigible</td>\n",
       "      <td>5.0</td>\n",
       "      <td>5.0</td>\n",
       "      <td>0.0</td>\n",
       "      <td>AtlantiCity, New Jersey</td>\n",
       "      <td>Military - U.S. Navy</td>\n",
       "      <td>1912</td>\n",
       "    </tr>\n",
       "    <tr>\n",
       "      <th>2</th>\n",
       "      <td>3</td>\n",
       "      <td>08/06/1913</td>\n",
       "      <td>Curtiss seaplane</td>\n",
       "      <td>1.0</td>\n",
       "      <td>1.0</td>\n",
       "      <td>0.0</td>\n",
       "      <td>Victoria, British Columbia, Canada</td>\n",
       "      <td>Private</td>\n",
       "      <td>1913</td>\n",
       "    </tr>\n",
       "    <tr>\n",
       "      <th>3</th>\n",
       "      <td>4</td>\n",
       "      <td>09/09/1913</td>\n",
       "      <td>Zeppelin L-1 (airship)</td>\n",
       "      <td>20.0</td>\n",
       "      <td>14.0</td>\n",
       "      <td>0.0</td>\n",
       "      <td>Over the North Sea</td>\n",
       "      <td>Military - German Navy</td>\n",
       "      <td>1913</td>\n",
       "    </tr>\n",
       "    <tr>\n",
       "      <th>4</th>\n",
       "      <td>5</td>\n",
       "      <td>10/17/1913</td>\n",
       "      <td>Zeppelin L-2 (airship)</td>\n",
       "      <td>30.0</td>\n",
       "      <td>30.0</td>\n",
       "      <td>0.0</td>\n",
       "      <td>Near Johannisthal, Germany</td>\n",
       "      <td>Military - German Navy</td>\n",
       "      <td>1913</td>\n",
       "    </tr>\n",
       "    <tr>\n",
       "      <th>...</th>\n",
       "      <td>...</td>\n",
       "      <td>...</td>\n",
       "      <td>...</td>\n",
       "      <td>...</td>\n",
       "      <td>...</td>\n",
       "      <td>...</td>\n",
       "      <td>...</td>\n",
       "      <td>...</td>\n",
       "      <td>...</td>\n",
       "    </tr>\n",
       "    <tr>\n",
       "      <th>5263</th>\n",
       "      <td>5264</td>\n",
       "      <td>05/20/2009</td>\n",
       "      <td>Lockheed C-130 Hercules</td>\n",
       "      <td>112.0</td>\n",
       "      <td>98.0</td>\n",
       "      <td>2.0</td>\n",
       "      <td>Near Madiun, Indonesia</td>\n",
       "      <td>Military - Indonesian Air Force</td>\n",
       "      <td>2009</td>\n",
       "    </tr>\n",
       "    <tr>\n",
       "      <th>5264</th>\n",
       "      <td>5265</td>\n",
       "      <td>05/26/2009</td>\n",
       "      <td>Antonov An-26</td>\n",
       "      <td>4.0</td>\n",
       "      <td>4.0</td>\n",
       "      <td>0.0</td>\n",
       "      <td>Near Isiro, DemocratiRepubliCongo</td>\n",
       "      <td>Service Air</td>\n",
       "      <td>2009</td>\n",
       "    </tr>\n",
       "    <tr>\n",
       "      <th>5265</th>\n",
       "      <td>5266</td>\n",
       "      <td>06/01/2009</td>\n",
       "      <td>Airbus A330-203</td>\n",
       "      <td>228.0</td>\n",
       "      <td>228.0</td>\n",
       "      <td>0.0</td>\n",
       "      <td>AtlantiOcean, 570 miles northeast of Natal, Br...</td>\n",
       "      <td>Air France</td>\n",
       "      <td>2009</td>\n",
       "    </tr>\n",
       "    <tr>\n",
       "      <th>5266</th>\n",
       "      <td>5267</td>\n",
       "      <td>06/07/2009</td>\n",
       "      <td>Britten-Norman BN-2A-27 Islander</td>\n",
       "      <td>1.0</td>\n",
       "      <td>1.0</td>\n",
       "      <td>0.0</td>\n",
       "      <td>Near Port Hope Simpson, Newfoundland, Canada</td>\n",
       "      <td>Strait Air</td>\n",
       "      <td>2009</td>\n",
       "    </tr>\n",
       "    <tr>\n",
       "      <th>5267</th>\n",
       "      <td>5268</td>\n",
       "      <td>06/08/2009</td>\n",
       "      <td>Antonov An-32</td>\n",
       "      <td>13.0</td>\n",
       "      <td>13.0</td>\n",
       "      <td>0.0</td>\n",
       "      <td>State of Arunachal Pradesh, India</td>\n",
       "      <td>Military - Indian Air Force</td>\n",
       "      <td>2009</td>\n",
       "    </tr>\n",
       "  </tbody>\n",
       "</table>\n",
       "<p>5268 rows × 9 columns</p>\n",
       "</div>"
      ],
      "text/plain": [
       "        id        Date                              Type  Aboard  Fatalities  \\\n",
       "0        1  09/17/1908                  Wright Flyer III     2.0         1.0   \n",
       "1        2  07/12/1912                         Dirigible     5.0         5.0   \n",
       "2        3  08/06/1913                  Curtiss seaplane     1.0         1.0   \n",
       "3        4  09/09/1913            Zeppelin L-1 (airship)    20.0        14.0   \n",
       "4        5  10/17/1913            Zeppelin L-2 (airship)    30.0        30.0   \n",
       "...    ...         ...                               ...     ...         ...   \n",
       "5263  5264  05/20/2009           Lockheed C-130 Hercules   112.0        98.0   \n",
       "5264  5265  05/26/2009                     Antonov An-26     4.0         4.0   \n",
       "5265  5266  06/01/2009                   Airbus A330-203   228.0       228.0   \n",
       "5266  5267  06/07/2009  Britten-Norman BN-2A-27 Islander     1.0         1.0   \n",
       "5267  5268  06/08/2009                     Antonov An-32    13.0        13.0   \n",
       "\n",
       "      Ground                                           Location  \\\n",
       "0        0.0                                Fort Myer, Virginia   \n",
       "1        0.0                            AtlantiCity, New Jersey   \n",
       "2        0.0                 Victoria, British Columbia, Canada   \n",
       "3        0.0                                 Over the North Sea   \n",
       "4        0.0                         Near Johannisthal, Germany   \n",
       "...      ...                                                ...   \n",
       "5263     2.0                             Near Madiun, Indonesia   \n",
       "5264     0.0                  Near Isiro, DemocratiRepubliCongo   \n",
       "5265     0.0  AtlantiOcean, 570 miles northeast of Natal, Br...   \n",
       "5266     0.0       Near Port Hope Simpson, Newfoundland, Canada   \n",
       "5267     0.0                  State of Arunachal Pradesh, India   \n",
       "\n",
       "                             Operator  Year  \n",
       "0                Military - U.S. Army  1908  \n",
       "1                Military - U.S. Navy  1912  \n",
       "2                             Private  1913  \n",
       "3              Military - German Navy  1913  \n",
       "4              Military - German Navy  1913  \n",
       "...                               ...   ...  \n",
       "5263  Military - Indonesian Air Force  2009  \n",
       "5264                      Service Air  2009  \n",
       "5265                       Air France  2009  \n",
       "5266                       Strait Air  2009  \n",
       "5267      Military - Indian Air Force  2009  \n",
       "\n",
       "[5268 rows x 9 columns]"
      ]
     },
     "execution_count": 20,
     "metadata": {},
     "output_type": "execute_result"
    }
   ],
   "source": [
    "cleaned_df = add_year(cleaned_df, 'Date')\n",
    "cleaned_df"
   ]
  },
  {
   "cell_type": "code",
   "execution_count": 21,
   "metadata": {},
   "outputs": [
    {
     "data": {
      "text/html": [
       "<div>\n",
       "<style scoped>\n",
       "    .dataframe tbody tr th:only-of-type {\n",
       "        vertical-align: middle;\n",
       "    }\n",
       "\n",
       "    .dataframe tbody tr th {\n",
       "        vertical-align: top;\n",
       "    }\n",
       "\n",
       "    .dataframe thead th {\n",
       "        text-align: right;\n",
       "    }\n",
       "</style>\n",
       "<table border=\"1\" class=\"dataframe\">\n",
       "  <thead>\n",
       "    <tr style=\"text-align: right;\">\n",
       "      <th></th>\n",
       "      <th>id</th>\n",
       "      <th>Type</th>\n",
       "      <th>Aboard</th>\n",
       "      <th>Fatalities</th>\n",
       "      <th>Ground</th>\n",
       "      <th>Location</th>\n",
       "      <th>Operator</th>\n",
       "      <th>Year</th>\n",
       "    </tr>\n",
       "  </thead>\n",
       "  <tbody>\n",
       "    <tr>\n",
       "      <th>0</th>\n",
       "      <td>1</td>\n",
       "      <td>Wright Flyer III</td>\n",
       "      <td>2.0</td>\n",
       "      <td>1.0</td>\n",
       "      <td>0.0</td>\n",
       "      <td>Fort Myer, Virginia</td>\n",
       "      <td>Military - U.S. Army</td>\n",
       "      <td>1908</td>\n",
       "    </tr>\n",
       "    <tr>\n",
       "      <th>1</th>\n",
       "      <td>2</td>\n",
       "      <td>Dirigible</td>\n",
       "      <td>5.0</td>\n",
       "      <td>5.0</td>\n",
       "      <td>0.0</td>\n",
       "      <td>AtlantiCity, New Jersey</td>\n",
       "      <td>Military - U.S. Navy</td>\n",
       "      <td>1912</td>\n",
       "    </tr>\n",
       "    <tr>\n",
       "      <th>2</th>\n",
       "      <td>3</td>\n",
       "      <td>Curtiss seaplane</td>\n",
       "      <td>1.0</td>\n",
       "      <td>1.0</td>\n",
       "      <td>0.0</td>\n",
       "      <td>Victoria, British Columbia, Canada</td>\n",
       "      <td>Private</td>\n",
       "      <td>1913</td>\n",
       "    </tr>\n",
       "  </tbody>\n",
       "</table>\n",
       "</div>"
      ],
      "text/plain": [
       "   id              Type  Aboard  Fatalities  Ground  \\\n",
       "0   1  Wright Flyer III     2.0         1.0     0.0   \n",
       "1   2         Dirigible     5.0         5.0     0.0   \n",
       "2   3  Curtiss seaplane     1.0         1.0     0.0   \n",
       "\n",
       "                             Location              Operator  Year  \n",
       "0                 Fort Myer, Virginia  Military - U.S. Army  1908  \n",
       "1             AtlantiCity, New Jersey  Military - U.S. Navy  1912  \n",
       "2  Victoria, British Columbia, Canada               Private  1913  "
      ]
     },
     "execution_count": 21,
     "metadata": {},
     "output_type": "execute_result"
    }
   ],
   "source": [
    "cleaned_df = remove_list_of_columns(cleaned_df, ['Date'])\n",
    "cleaned_df.head(3)"
   ]
  },
  {
   "cell_type": "code",
   "execution_count": 22,
   "metadata": {},
   "outputs": [
    {
     "name": "stdout",
     "output_type": "stream",
     "text": [
      "<class 'pandas.core.frame.DataFrame'>\n",
      "Int64Index: 5268 entries, 0 to 5267\n",
      "Data columns (total 8 columns):\n",
      " #   Column      Non-Null Count  Dtype  \n",
      "---  ------      --------------  -----  \n",
      " 0   id          5268 non-null   int64  \n",
      " 1   Type        5268 non-null   object \n",
      " 2   Aboard      5268 non-null   float64\n",
      " 3   Fatalities  5268 non-null   float64\n",
      " 4   Ground      5268 non-null   float64\n",
      " 5   Location    5268 non-null   object \n",
      " 6   Operator    5268 non-null   object \n",
      " 7   Year        5268 non-null   int64  \n",
      "dtypes: float64(3), int64(2), object(3)\n",
      "memory usage: 370.4+ KB\n"
     ]
    }
   ],
   "source": [
    "cleaned_df.info()"
   ]
  },
  {
   "cell_type": "markdown",
   "metadata": {},
   "source": [
    "**Change Datatypes**\n",
    "\n",
    "Convert Aboard, Fatalities and Ground to int from float"
   ]
  },
  {
   "cell_type": "code",
   "execution_count": 23,
   "metadata": {},
   "outputs": [],
   "source": [
    "def convert_data_type(df):\n",
    "    \n",
    "    \"\"\"\n",
    "    Parameters\n",
    "    ==========\n",
    "    df: Dataframe\n",
    "        Dataframe whose columns are to be converted to int\n",
    "    ==========\n",
    "    Return\n",
    "    ----------\n",
    "    Return dataframe whose datatypes are correct\n",
    "    \"\"\"\n",
    "    \n",
    "    return df.convert_dtypes()"
   ]
  },
  {
   "cell_type": "code",
   "execution_count": 24,
   "metadata": {},
   "outputs": [],
   "source": [
    "cleaned_df = convert_data_type(cleaned_df)"
   ]
  },
  {
   "cell_type": "code",
   "execution_count": 25,
   "metadata": {},
   "outputs": [
    {
     "name": "stdout",
     "output_type": "stream",
     "text": [
      "<class 'pandas.core.frame.DataFrame'>\n",
      "Int64Index: 5268 entries, 0 to 5267\n",
      "Data columns (total 8 columns):\n",
      " #   Column      Non-Null Count  Dtype \n",
      "---  ------      --------------  ----- \n",
      " 0   id          5268 non-null   Int64 \n",
      " 1   Type        5268 non-null   string\n",
      " 2   Aboard      5268 non-null   Int64 \n",
      " 3   Fatalities  5268 non-null   Int64 \n",
      " 4   Ground      5268 non-null   Int64 \n",
      " 5   Location    5268 non-null   string\n",
      " 6   Operator    5268 non-null   string\n",
      " 7   Year        5268 non-null   Int64 \n",
      "dtypes: Int64(5), string(3)\n",
      "memory usage: 396.1 KB\n"
     ]
    }
   ],
   "source": [
    "cleaned_df.info()"
   ]
  },
  {
   "cell_type": "code",
   "execution_count": 26,
   "metadata": {},
   "outputs": [],
   "source": [
    "pivoted1 = pd.pivot_table(data=cleaned_df, index='Year', values=['Aboard', 'Fatalities'])"
   ]
  },
  {
   "cell_type": "code",
   "execution_count": 27,
   "metadata": {},
   "outputs": [
    {
     "data": {
      "text/plain": [
       "<matplotlib.axes._subplots.AxesSubplot at 0x7f207061d7b8>"
      ]
     },
     "execution_count": 27,
     "metadata": {},
     "output_type": "execute_result"
    },
    {
     "data": {
      "image/png": "[encoded data removed]",
      "text/plain": [
       "<Figure size 432x288 with 1 Axes>"
      ]
     },
     "metadata": {
      "needs_background": "light"
     },
     "output_type": "display_data"
    }
   ],
   "source": [
    "sns.scatterplot(data=pivoted1, x='Aboard', y='Fatalities')"
   ]
  },
  {
   "cell_type": "markdown",
   "metadata": {},
   "source": [
    "There is linear relationship between Fatalities and Aboard passangers. This means that, increase in passengers aboard leads to increase in fatalities in case there is a crash which is logical even in real life."
   ]
  },
  {
   "cell_type": "code",
   "execution_count": 28,
   "metadata": {},
   "outputs": [],
   "source": [
    "pivote_type = pd.pivot_table(data=cleaned_df, index='Type', values='Fatalities')"
   ]
  },
  {
   "cell_type": "code",
   "execution_count": 29,
   "metadata": {},
   "outputs": [
    {
     "data": {
      "text/html": [
       "<div>\n",
       "<style scoped>\n",
       "    .dataframe tbody tr th:only-of-type {\n",
       "        vertical-align: middle;\n",
       "    }\n",
       "\n",
       "    .dataframe tbody tr th {\n",
       "        vertical-align: top;\n",
       "    }\n",
       "\n",
       "    .dataframe thead th {\n",
       "        text-align: right;\n",
       "    }\n",
       "</style>\n",
       "<table border=\"1\" class=\"dataframe\">\n",
       "  <thead>\n",
       "    <tr style=\"text-align: right;\">\n",
       "      <th></th>\n",
       "      <th>Fatalities</th>\n",
       "    </tr>\n",
       "    <tr>\n",
       "      <th>Type</th>\n",
       "      <th></th>\n",
       "    </tr>\n",
       "  </thead>\n",
       "  <tbody>\n",
       "    <tr>\n",
       "      <th>AAC-1 Toucan</th>\n",
       "      <td>23.0</td>\n",
       "    </tr>\n",
       "    <tr>\n",
       "      <th>AEGK</th>\n",
       "      <td>5.0</td>\n",
       "    </tr>\n",
       "    <tr>\n",
       "      <th>AT L98 Carvair</th>\n",
       "      <td>4.0</td>\n",
       "    </tr>\n",
       "    <tr>\n",
       "      <th>ATR 42-300</th>\n",
       "      <td>2.0</td>\n",
       "    </tr>\n",
       "    <tr>\n",
       "      <th>ATR-42-300</th>\n",
       "      <td>46.0</td>\n",
       "    </tr>\n",
       "    <tr>\n",
       "      <th>...</th>\n",
       "      <td>...</td>\n",
       "    </tr>\n",
       "    <tr>\n",
       "      <th>de Havilland Dove 1</th>\n",
       "      <td>11.0</td>\n",
       "    </tr>\n",
       "    <tr>\n",
       "      <th>de Havilland Dragon 1</th>\n",
       "      <td>3.0</td>\n",
       "    </tr>\n",
       "    <tr>\n",
       "      <th>de Havilland RU-6A Beaver /Bell UH-1H</th>\n",
       "      <td>18.0</td>\n",
       "    </tr>\n",
       "    <tr>\n",
       "      <th>de havilland Canada Twin Otter 200</th>\n",
       "      <td>11.0</td>\n",
       "    </tr>\n",
       "    <tr>\n",
       "      <th>deHavilland DH-86</th>\n",
       "      <td>9.0</td>\n",
       "    </tr>\n",
       "  </tbody>\n",
       "</table>\n",
       "<p>2446 rows × 1 columns</p>\n",
       "</div>"
      ],
      "text/plain": [
       "                                       Fatalities\n",
       "Type                                             \n",
       "AAC-1 Toucan                                 23.0\n",
       "AEGK                                          5.0\n",
       "AT L98 Carvair                                4.0\n",
       "ATR 42-300                                    2.0\n",
       "ATR-42-300                                   46.0\n",
       "...                                           ...\n",
       "de Havilland Dove 1                          11.0\n",
       "de Havilland Dragon 1                         3.0\n",
       "de Havilland RU-6A Beaver /Bell UH-1H        18.0\n",
       "de havilland Canada Twin Otter 200           11.0\n",
       "deHavilland DH-86                             9.0\n",
       "\n",
       "[2446 rows x 1 columns]"
      ]
     },
     "execution_count": 29,
     "metadata": {},
     "output_type": "execute_result"
    }
   ],
   "source": [
    "pivote_type"
   ]
  },
  {
   "cell_type": "markdown",
   "metadata": {},
   "source": [
    "***Finding Fatalities Maximum and Minimum value***"
   ]
  },
  {
   "cell_type": "code",
   "execution_count": 30,
   "metadata": {},
   "outputs": [
    {
     "data": {
      "text/html": [
       "<div>\n",
       "<style scoped>\n",
       "    .dataframe tbody tr th:only-of-type {\n",
       "        vertical-align: middle;\n",
       "    }\n",
       "\n",
       "    .dataframe tbody tr th {\n",
       "        vertical-align: top;\n",
       "    }\n",
       "\n",
       "    .dataframe thead th {\n",
       "        text-align: right;\n",
       "    }\n",
       "</style>\n",
       "<table border=\"1\" class=\"dataframe\">\n",
       "  <thead>\n",
       "    <tr style=\"text-align: right;\">\n",
       "      <th></th>\n",
       "      <th>id</th>\n",
       "      <th>Type</th>\n",
       "      <th>Aboard</th>\n",
       "      <th>Fatalities</th>\n",
       "      <th>Ground</th>\n",
       "      <th>Location</th>\n",
       "      <th>Operator</th>\n",
       "      <th>Year</th>\n",
       "    </tr>\n",
       "  </thead>\n",
       "  <tbody>\n",
       "    <tr>\n",
       "      <th>2963</th>\n",
       "      <td>2964</td>\n",
       "      <td>Boeing B-747-121 / Boeing B-747-206B</td>\n",
       "      <td>644</td>\n",
       "      <td>583</td>\n",
       "      <td>0</td>\n",
       "      <td>Tenerife, Canary Islands</td>\n",
       "      <td>Pan American World Airways / KLM</td>\n",
       "      <td>1977</td>\n",
       "    </tr>\n",
       "  </tbody>\n",
       "</table>\n",
       "</div>"
      ],
      "text/plain": [
       "        id                                  Type  Aboard  Fatalities  Ground  \\\n",
       "2963  2964  Boeing B-747-121 / Boeing B-747-206B     644         583       0   \n",
       "\n",
       "                      Location                          Operator  Year  \n",
       "2963  Tenerife, Canary Islands  Pan American World Airways / KLM  1977  "
      ]
     },
     "execution_count": 30,
     "metadata": {},
     "output_type": "execute_result"
    }
   ],
   "source": [
    "cleaned_df[cleaned_df['Fatalities'] == cleaned_df['Fatalities'].max()]"
   ]
  },
  {
   "cell_type": "code",
   "execution_count": 31,
   "metadata": {},
   "outputs": [
    {
     "data": {
      "text/html": [
       "<div>\n",
       "<style scoped>\n",
       "    .dataframe tbody tr th:only-of-type {\n",
       "        vertical-align: middle;\n",
       "    }\n",
       "\n",
       "    .dataframe tbody tr th {\n",
       "        vertical-align: top;\n",
       "    }\n",
       "\n",
       "    .dataframe thead th {\n",
       "        text-align: right;\n",
       "    }\n",
       "</style>\n",
       "<table border=\"1\" class=\"dataframe\">\n",
       "  <thead>\n",
       "    <tr style=\"text-align: right;\">\n",
       "      <th></th>\n",
       "      <th>Fatalities</th>\n",
       "    </tr>\n",
       "    <tr>\n",
       "      <th>Type</th>\n",
       "      <th></th>\n",
       "    </tr>\n",
       "  </thead>\n",
       "  <tbody>\n",
       "    <tr>\n",
       "      <th>Boeing B-747-121 / Boeing B-747-206B</th>\n",
       "      <td>583.0</td>\n",
       "    </tr>\n",
       "  </tbody>\n",
       "</table>\n",
       "</div>"
      ],
      "text/plain": [
       "                                      Fatalities\n",
       "Type                                            \n",
       "Boeing B-747-121 / Boeing B-747-206B       583.0"
      ]
     },
     "execution_count": 31,
     "metadata": {},
     "output_type": "execute_result"
    }
   ],
   "source": [
    "pivote_type[pivote_type['Fatalities'] == pivote_type['Fatalities'].max()]"
   ]
  },
  {
   "cell_type": "markdown",
   "metadata": {},
   "source": [
    "**VISUALIZATION**"
   ]
  },
  {
   "cell_type": "code",
   "execution_count": 32,
   "metadata": {},
   "outputs": [
    {
     "data": {
      "text/plain": [
       "<matplotlib.axes._subplots.AxesSubplot at 0x7f2073430128>"
      ]
     },
     "execution_count": 32,
     "metadata": {},
     "output_type": "execute_result"
    },
    {
     "data": {
      "image/png": "[encoded data removed]",
      "text/plain": [
       "<Figure size 720x2880 with 1 Axes>"
      ]
     },
     "metadata": {
      "needs_background": "light"
     },
     "output_type": "display_data"
    }
   ],
   "source": [
    "plt.figure(figsize=(10, 40))\n",
    "sns.countplot(data=cleaned_df, y='Year')"
   ]
  },
  {
   "cell_type": "code",
   "execution_count": 33,
   "metadata": {},
   "outputs": [
    {
     "data": {
      "text/plain": [
       "<matplotlib.axes._subplots.AxesSubplot at 0x7f207034b438>"
      ]
     },
     "execution_count": 33,
     "metadata": {},
     "output_type": "execute_result"
    },
    {
     "data": {
      "image/png": "[encoded data removed]",
      "text/plain": [
       "<Figure size 432x288 with 1 Axes>"
      ]
     },
     "metadata": {
      "needs_background": "light"
     },
     "output_type": "display_data"
    }
   ],
   "source": [
    "sns.scatterplot(data=cleaned_df, x='Aboard', y='Fatalities')"
   ]
  },
  {
   "cell_type": "code",
   "execution_count": 34,
   "metadata": {},
   "outputs": [
    {
     "data": {
      "text/plain": [
       "<matplotlib.axes._subplots.AxesSubplot at 0x7f207036a9b0>"
      ]
     },
     "execution_count": 34,
     "metadata": {},
     "output_type": "execute_result"
    },
    {
     "data": {
      "image/png": "[encoded data removed]",
      "text/plain": [
       "<Figure size 432x288 with 1 Axes>"
      ]
     },
     "metadata": {
      "needs_background": "light"
     },
     "output_type": "display_data"
    }
   ],
   "source": [
    "sns.scatterplot(data=cleaned_df, y='Year', x='Fatalities')"
   ]
  },
  {
   "cell_type": "code",
   "execution_count": 35,
   "metadata": {},
   "outputs": [
    {
     "data": {
      "text/plain": [
       "<matplotlib.axes._subplots.AxesSubplot at 0x7f206fb32a20>"
      ]
     },
     "execution_count": 35,
     "metadata": {},
     "output_type": "execute_result"
    },
    {
     "data": {
      "image/png": "[encoded data removed]",
      "text/plain": [
       "<Figure size 432x288 with 1 Axes>"
      ]
     },
     "metadata": {
      "needs_background": "light"
     },
     "output_type": "display_data"
    }
   ],
   "source": [
    "sns.scatterplot(data=cleaned_df, y='Year', x='Aboard')"
   ]
  },
  {
   "cell_type": "markdown",
   "metadata": {},
   "source": [
    "***SUMMARY***\n",
    "\n",
    "The above visualizatiuon shows that the Aboard passengers and fatalities increase as years go to the future. Boeing B-747-121 / Boeing B-747-206B aeroplane registered the highest number of fatalities since 1908 and was higher fatalities in 1977 with 583."
   ]
  },
  {
   "cell_type": "code",
   "execution_count": null,
   "metadata": {},
   "outputs": [],
   "source": []
  }
 ],
 "metadata": {
  "kernelspec": {
   "display_name": "Python 3",
   "language": "python",
   "name": "python3"
  },
  "language_info": {
   "codemirror_mode": {
    "name": "ipython",
    "version": 3
   },
   "file_extension": ".py",
   "mimetype": "text/x-python",
   "name": "python",
   "nbconvert_exporter": "python",
   "pygments_lexer": "ipython3",
   "version": "3.6.7"
  }
 },
 "nbformat": 4,
 "nbformat_minor": 4
}
